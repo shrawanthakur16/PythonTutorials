{
 "cells": [
  {
   "cell_type": "markdown",
   "id": "5acdc94b-e268-4afc-8b78-d876157f2cc1",
   "metadata": {},
   "source": [
    "Task1"
   ]
  },
  {
   "cell_type": "markdown",
   "id": "f09c736e-ce8c-49b6-942d-cdd7ef7a44bc",
   "metadata": {},
   "source": [
    "integer_type_variable=101\n",
    "list_of_integers=[1,2,3,4,5]\n",
    "string_type_variable='Str'\n",
    "list_of_integer_and_string=[1,'Str1',2,'Str2']\n",
    "tuple_of_integers=(2,4,6,7,8,9,10)\n",
    "set_of_strings=('Str1','Str2','Str3')\n",
    "list_of_strings=['Str4','Str5','Str6']\n",
    "print('\\n\\n*****Output*****')\n",
    "print(integer_type_variable)"
   ]
  },
  {
   "cell_type": "code",
   "execution_count": 15,
   "id": "f5878c99-68ba-4d74-8e7c-90da550e5566",
   "metadata": {
    "tags": []
   },
   "outputs": [
    {
     "name": "stdout",
     "output_type": "stream",
     "text": [
      "[1, 2, 3, 4, 5]\n"
     ]
    }
   ],
   "source": [
    "print(list_of_integers)"
   ]
  },
  {
   "cell_type": "code",
   "execution_count": 8,
   "id": "5653c2ec-88ff-4365-a4a5-9192dfef5b9b",
   "metadata": {
    "tags": []
   },
   "outputs": [
    {
     "data": {
      "text/plain": [
       "'Str'"
      ]
     },
     "execution_count": 8,
     "metadata": {},
     "output_type": "execute_result"
    }
   ],
   "source": [
    "string_type_variable"
   ]
  },
  {
   "cell_type": "code",
   "execution_count": 11,
   "id": "a26b8b97-4bac-4dec-b397-2df18810cf18",
   "metadata": {
    "tags": []
   },
   "outputs": [
    {
     "data": {
      "text/plain": [
       "[1, 'Str1', 2, 'Str2']"
      ]
     },
     "execution_count": 11,
     "metadata": {},
     "output_type": "execute_result"
    }
   ],
   "source": [
    "list_of_integer_and_string"
   ]
  },
  {
   "cell_type": "code",
   "execution_count": 10,
   "id": "150ccea1-d506-4cd1-95b9-bca117958112",
   "metadata": {
    "tags": []
   },
   "outputs": [
    {
     "data": {
      "text/plain": [
       "(2, 4, 6, 7, 8, 9, 10)"
      ]
     },
     "execution_count": 10,
     "metadata": {},
     "output_type": "execute_result"
    }
   ],
   "source": [
    "tuple_of_integers"
   ]
  },
  {
   "cell_type": "code",
   "execution_count": 12,
   "id": "709e12fa-c04d-46ae-8f13-7a27b5b1fab4",
   "metadata": {
    "tags": []
   },
   "outputs": [
    {
     "data": {
      "text/plain": [
       "('Str1', 'Str2', 'Str3')"
      ]
     },
     "execution_count": 12,
     "metadata": {},
     "output_type": "execute_result"
    }
   ],
   "source": [
    "set_of_strings"
   ]
  },
  {
   "cell_type": "code",
   "execution_count": 13,
   "id": "942a8675-c5ba-4ee1-9ed5-f8486f3b45f2",
   "metadata": {
    "tags": []
   },
   "outputs": [
    {
     "data": {
      "text/plain": [
       "['Str4', 'Str5', 'Str6']"
      ]
     },
     "execution_count": 13,
     "metadata": {},
     "output_type": "execute_result"
    }
   ],
   "source": [
    "list_of_strings"
   ]
  },
  {
   "cell_type": "markdown",
   "id": "c06b2b84-ea56-41b0-b435-9b06798dda07",
   "metadata": {
    "tags": []
   },
   "source": [
    "Task2"
   ]
  },
  {
   "cell_type": "code",
   "execution_count": 19,
   "id": "40b1c8a3-de67-435e-b353-0e5683a43b00",
   "metadata": {
    "tags": []
   },
   "outputs": [
    {
     "data": {
      "text/plain": [
       "{1: 101,\n",
       " 2: [1, 2, 3, 4, 5],\n",
       " 3: 'Str',\n",
       " 4: [1, 'Str1', 2, 'Str2'],\n",
       " 5: (2, 4, 6, 7, 8, 9, 10),\n",
       " 6: ('Str1', 'Str2', 'Str3'),\n",
       " 7: ['Str4', 'Str5', 'Str6']}"
      ]
     },
     "execution_count": 19,
     "metadata": {},
     "output_type": "execute_result"
    }
   ],
   "source": [
    "my_dict={1: integer_type_variable, 2: list_of_integers, 3:string_type_variable, 4:list_of_integer_and_string, 5:tuple_of_integers, 6:set_of_strings, 7:list_of_strings}\n",
    "my_dict"
   ]
  },
  {
   "cell_type": "code",
   "execution_count": null,
   "id": "5df13c6a-3d6a-4856-9492-bbccfcc45a0d",
   "metadata": {},
   "outputs": [],
   "source": []
  }
 ],
 "metadata": {
  "kernelspec": {
   "display_name": "Python 3 (ipykernel)",
   "language": "python",
   "name": "python3"
  },
  "language_info": {
   "codemirror_mode": {
    "name": "ipython",
    "version": 3
   },
   "file_extension": ".py",
   "mimetype": "text/x-python",
   "name": "python",
   "nbconvert_exporter": "python",
   "pygments_lexer": "ipython3",
   "version": "3.11.1"
  }
 },
 "nbformat": 4,
 "nbformat_minor": 5
}
